{
 "cells": [
  {
   "cell_type": "code",
   "execution_count": 1,
   "id": "e6f31d45-6b5a-43c2-9a7c-e366213dd72a",
   "metadata": {},
   "outputs": [],
   "source": [
    "import numpy as np"
   ]
  },
  {
   "cell_type": "code",
   "execution_count": 14,
   "id": "4d39c956-adc3-4c46-9aa6-dda8bbc6c66a",
   "metadata": {},
   "outputs": [
    {
     "name": "stdout",
     "output_type": "stream",
     "text": [
      "<class 'list'>\n",
      "[23, 23, 12, 45, 50, 22, 21, 45, 34, 36]\n",
      "[23 23 12 45 50 22 21 45 34 36]\n",
      "<class 'numpy.ndarray'>\n"
     ]
    }
   ],
   "source": [
    "marks = [23,23,12,45,50,22,21,45,34,36]\n",
    "print(type(marks))\n",
    "print(marks)\n",
    "marks = np.array(marks)\n",
    "print(marks)\n",
    "print(type(marks))"
   ]
  },
  {
   "cell_type": "code",
   "execution_count": 8,
   "id": "ddf60b0e-094d-4fd5-a493-a666943de217",
   "metadata": {},
   "outputs": [],
   "source": [
    "avg_marks = np.mean(marks)\n",
    "middle_marks = np.median(marks)\n",
    "stdv_marks = np.std(marks)"
   ]
  },
  {
   "cell_type": "code",
   "execution_count": 12,
   "id": "a6ad180e-7331-4fce-ad5e-6fd6445de01c",
   "metadata": {},
   "outputs": [
    {
     "name": "stdout",
     "output_type": "stream",
     "text": [
      "Marks:\n",
      "Average: 31.1 \n",
      "Middle_marks: 28.5 \n",
      "Deviation_marks: 12.070211265756702\n"
     ]
    }
   ],
   "source": [
    "print(f\"Marks:\\nAverage: {avg_marks} \\nMiddle_marks: {middle_marks} \\nDeviation_marks: {stdv_marks}\")"
   ]
  },
  {
   "cell_type": "code",
   "execution_count": null,
   "id": "9c045898-0be9-4a8f-a53f-1ec5e6c943a9",
   "metadata": {},
   "outputs": [],
   "source": []
  }
 ],
 "metadata": {
  "kernelspec": {
   "display_name": "Python 3 (ipykernel)",
   "language": "python",
   "name": "python3"
  },
  "language_info": {
   "codemirror_mode": {
    "name": "ipython",
    "version": 3
   },
   "file_extension": ".py",
   "mimetype": "text/x-python",
   "name": "python",
   "nbconvert_exporter": "python",
   "pygments_lexer": "ipython3",
   "version": "3.13.1"
  }
 },
 "nbformat": 4,
 "nbformat_minor": 5
}
