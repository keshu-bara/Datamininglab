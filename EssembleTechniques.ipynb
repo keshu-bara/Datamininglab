{
 "cells": [
  {
   "cell_type": "code",
   "execution_count": 9,
   "id": "052f4962-1fa7-4583-a49d-ed4a28c7beb2",
   "metadata": {},
   "outputs": [],
   "source": [
    "import pandas as pd\n",
    "from sklearn.datasets import load_breast_cancer\n",
    "from sklearn.model_selection import train_test_split\n",
    "from sklearn.preprocessing import StandardScaler\n",
    "from sklearn.ensemble import RandomForestClassifier, AdaBoostClassifier, VotingClassifier, StackingClassifier\n",
    "from sklearn.linear_model import LogisticRegression\n",
    "from sklearn.tree import DecisionTreeClassifier\n",
    "from sklearn.svm import SVC\n",
    "from sklearn.metrics import accuracy_score"
   ]
  },
  {
   "cell_type": "code",
   "execution_count": 10,
   "id": "a0fc730e-d190-486d-a69a-4e34212dc9d8",
   "metadata": {},
   "outputs": [],
   "source": [
    "# Load the Breast Cancer dataset\n",
    "data = load_breast_cancer()\n",
    "X = pd.DataFrame(data.data, columns=data.feature_names)\n",
    "y = pd.Series(data.target)"
   ]
  },
  {
   "cell_type": "code",
   "execution_count": 11,
   "id": "60ac632c-efd3-41de-95cb-46efd3ca0ac5",
   "metadata": {},
   "outputs": [],
   "source": [
    "# Split the dataset into training and testing sets\n",
    "X_train, X_test, y_train, y_test = train_test_split(X, y, test_size=0.2, random_state=42)\n"
   ]
  },
  {
   "cell_type": "code",
   "execution_count": 12,
   "id": "6d30b7ce-75c8-4dfe-842e-2df604b94ecd",
   "metadata": {},
   "outputs": [],
   "source": [
    "\n",
    "# Feature scaling for algorithms sensitive to feature scales\n",
    "scaler = StandardScaler()\n",
    "X_train_scaled = scaler.fit_transform(X_train)\n",
    "X_test_scaled = scaler.transform(X_test)"
   ]
  },
  {
   "cell_type": "code",
   "execution_count": 13,
   "id": "8e477d08-4651-4e73-91f5-be8aa3bf3c54",
   "metadata": {},
   "outputs": [
    {
     "name": "stdout",
     "output_type": "stream",
     "text": [
      "Random Forest Accuracy: 96.49%\n"
     ]
    }
   ],
   "source": [
    "# 1. Bagging - Random Forest Classifier\n",
    "rf_clf = RandomForestClassifier(n_estimators=100, random_state=42)\n",
    "rf_clf.fit(X_train, y_train)\n",
    "rf_pred = rf_clf.predict(X_test)\n",
    "rf_acc = accuracy_score(y_test, rf_pred)\n",
    "print(f\"Random Forest Accuracy: {rf_acc * 100:.2f}%\")"
   ]
  },
  {
   "cell_type": "code",
   "execution_count": 14,
   "id": "91df2f34-c773-4a0b-bee2-30a6b1e4925f",
   "metadata": {},
   "outputs": [
    {
     "name": "stdout",
     "output_type": "stream",
     "text": [
      "AdaBoost Accuracy: 97.37%\n"
     ]
    }
   ],
   "source": [
    "# 2. Boosting - AdaBoost Classifier\n",
    "ada_clf = AdaBoostClassifier(n_estimators=100, random_state=42)\n",
    "ada_clf.fit(X_train, y_train)\n",
    "ada_pred = ada_clf.predict(X_test)\n",
    "ada_acc = accuracy_score(y_test, ada_pred)\n",
    "print(f\"AdaBoost Accuracy: {ada_acc * 100:.2f}%\")"
   ]
  },
  {
   "cell_type": "code",
   "execution_count": 15,
   "id": "9f0c11a1-6ce7-422b-a3c7-144e4551e4c9",
   "metadata": {},
   "outputs": [
    {
     "name": "stdout",
     "output_type": "stream",
     "text": [
      "Voting Classifier Accuracy: 96.49%\n"
     ]
    }
   ],
   "source": [
    "# 3. Voting Classifier\n",
    "log_clf = LogisticRegression(max_iter=1000, random_state=42)\n",
    "dt_clf = DecisionTreeClassifier(random_state=42)\n",
    "svc_clf = SVC(probability=True, random_state=42)\n",
    "\n",
    "voting_clf = VotingClassifier(estimators=[\n",
    "    ('lr', log_clf),\n",
    "    ('dt', dt_clf),\n",
    "    ('svc', svc_clf)\n",
    "], voting='soft')\n",
    "\n",
    "voting_clf.fit(X_train_scaled, y_train)\n",
    "voting_pred = voting_clf.predict(X_test_scaled)\n",
    "voting_acc = accuracy_score(y_test, voting_pred)\n",
    "print(f\"Voting Classifier Accuracy: {voting_acc * 100:.2f}%\")"
   ]
  },
  {
   "cell_type": "code",
   "execution_count": 16,
   "id": "ed09e923-9299-49f3-a9f2-c86a46af88ac",
   "metadata": {},
   "outputs": [
    {
     "name": "stdout",
     "output_type": "stream",
     "text": [
      "Stacking Classifier Accuracy: 97.37%\n"
     ]
    }
   ],
   "source": [
    "\n",
    "# 4. Stacking Classifier\n",
    "stacking_clf = StackingClassifier(\n",
    "    estimators=[\n",
    "        ('lr', log_clf),\n",
    "        ('dt', dt_clf),\n",
    "        ('svc', svc_clf)\n",
    "    ],\n",
    "    final_estimator=RandomForestClassifier(n_estimators=100, random_state=42)\n",
    ")\n",
    "\n",
    "stacking_clf.fit(X_train_scaled, y_train)\n",
    "stacking_pred = stacking_clf.predict(X_test_scaled)\n",
    "stacking_acc = accuracy_score(y_test, stacking_pred)\n",
    "print(f\"Stacking Classifier Accuracy: {stacking_acc * 100:.2f}%\")"
   ]
  },
  {
   "cell_type": "code",
   "execution_count": null,
   "id": "0632cb7b-6ba4-4b99-a333-15f04512ec77",
   "metadata": {},
   "outputs": [],
   "source": []
  }
 ],
 "metadata": {
  "kernelspec": {
   "display_name": "Python 3 (ipykernel)",
   "language": "python",
   "name": "python3"
  },
  "language_info": {
   "codemirror_mode": {
    "name": "ipython",
    "version": 3
   },
   "file_extension": ".py",
   "mimetype": "text/x-python",
   "name": "python",
   "nbconvert_exporter": "python",
   "pygments_lexer": "ipython3",
   "version": "3.13.1"
  }
 },
 "nbformat": 4,
 "nbformat_minor": 5
}
