{
 "cells": [
  {
   "cell_type": "code",
   "execution_count": 1,
   "id": "a4193ac3-38d2-4a4d-9b3d-0fcf0d9b7e72",
   "metadata": {},
   "outputs": [],
   "source": [
    "import pandas as pd\n",
    "from sklearn.model_selection import train_test_split\n",
    "from sklearn.preprocessing import StandardScaler\n",
    "from sklearn.neighbors import KNeighborsClassifier\n",
    "from sklearn.metrics import classification_report, confusion_matrix"
   ]
  },
  {
   "cell_type": "code",
   "execution_count": 2,
   "id": "646b8d16-2bd2-4812-88e4-2a022b6202ca",
   "metadata": {},
   "outputs": [],
   "source": [
    "data = pd.read_csv(\"medical.csv\")"
   ]
  },
  {
   "cell_type": "code",
   "execution_count": 3,
   "id": "9bb9d22e-ea4b-41e1-bc6a-e8a968b6da68",
   "metadata": {},
   "outputs": [],
   "source": [
    "df = pd.DataFrame(data)"
   ]
  },
  {
   "cell_type": "code",
   "execution_count": 5,
   "id": "49c995de-d145-4eff-ac30-f3fd204929b3",
   "metadata": {},
   "outputs": [],
   "source": [
    "# Create binary target: 1 if Diabetes, else 0\n",
    "df['Target'] = df['Diagnosis'].apply(lambda x: 1 if x == 'Diabetes' else 0)"
   ]
  },
  {
   "cell_type": "code",
   "execution_count": 6,
   "id": "622196ff-f90b-43ac-9de2-142d3770d08c",
   "metadata": {},
   "outputs": [],
   "source": [
    "# Use selected features and drop missing values\n",
    "features = df[['Age', 'Cholesterol', 'Heart_Rate']]\n",
    "df_model = pd.concat([features, df['Target']], axis=1).dropna()"
   ]
  },
  {
   "cell_type": "code",
   "execution_count": 7,
   "id": "21dbbb5f-64ef-464f-b571-2a4542e503a8",
   "metadata": {},
   "outputs": [],
   "source": [
    "X = df_model[['Age', 'Cholesterol', 'Heart_Rate']]\n",
    "y = df_model['Target']"
   ]
  },
  {
   "cell_type": "code",
   "execution_count": 8,
   "id": "5edc9656-d609-4444-b0a1-df913ee4e548",
   "metadata": {},
   "outputs": [],
   "source": [
    "# Split data into training and test sets\n",
    "X_train, X_test, y_train, y_test = train_test_split(X, y, test_size=0.3, random_state=42)"
   ]
  },
  {
   "cell_type": "code",
   "execution_count": 9,
   "id": "bed169b8-df29-4af2-bd81-e992f8c70c57",
   "metadata": {},
   "outputs": [],
   "source": [
    "# Scale features\n",
    "scaler = StandardScaler()\n",
    "X_train_scaled = scaler.fit_transform(X_train)\n",
    "X_test_scaled = scaler.transform(X_test)"
   ]
  },
  {
   "cell_type": "code",
   "execution_count": 12,
   "id": "d146a35c-b463-490f-a598-4a7f85d61cc7",
   "metadata": {},
   "outputs": [],
   "source": [
    "k = min(3, len(X_train))  # use 3 or less based on available training samples\n",
    "knn = KNeighborsClassifier(n_neighbors=k)"
   ]
  },
  {
   "cell_type": "code",
   "execution_count": 13,
   "id": "739678cd-fe8b-479e-a323-7e32532df895",
   "metadata": {},
   "outputs": [],
   "source": [
    "# Ensure k <= number of training samples\n",
    "k = min(3, len(X_train))\n",
    "knn = KNeighborsClassifier(n_neighbors=k)\n",
    "knn.fit(X_train_scaled, y_train)\n",
    "\n",
    "# Predictions\n",
    "y_pred = knn.predict(X_test_scaled)"
   ]
  },
  {
   "cell_type": "code",
   "execution_count": 15,
   "id": "9af977a5-2bf3-41eb-97ea-73c3d8e94674",
   "metadata": {},
   "outputs": [
    {
     "name": "stdout",
     "output_type": "stream",
     "text": [
      "Confusion Matrix:\n",
      " [[2]]\n",
      "\n",
      "Classification Report:\n",
      "               precision    recall  f1-score   support\n",
      "\n",
      "           0       1.00      1.00      1.00         2\n",
      "\n",
      "    accuracy                           1.00         2\n",
      "   macro avg       1.00      1.00      1.00         2\n",
      "weighted avg       1.00      1.00      1.00         2\n",
      "\n"
     ]
    },
    {
     "name": "stderr",
     "output_type": "stream",
     "text": [
      "C:\\MY_PC\\4thsem\\Datamininglab\\dm_env\\Lib\\site-packages\\sklearn\\metrics\\_classification.py:407: UserWarning: A single label was found in 'y_true' and 'y_pred'. For the confusion matrix to have the correct shape, use the 'labels' parameter to pass all known labels.\n",
      "  warnings.warn(\n"
     ]
    }
   ],
   "source": [
    "# Evaluation\n",
    "print(\"Confusion Matrix:\\n\", confusion_matrix(y_test, y_pred))\n",
    "print(\"\\nClassification Report:\\n\", classification_report(y_test, y_pred))"
   ]
  },
  {
   "cell_type": "code",
   "execution_count": null,
   "id": "d0fdf694-4915-4397-b9a3-9c1ed6b9777e",
   "metadata": {},
   "outputs": [],
   "source": []
  }
 ],
 "metadata": {
  "kernelspec": {
   "display_name": "Python 3 (ipykernel)",
   "language": "python",
   "name": "python3"
  },
  "language_info": {
   "codemirror_mode": {
    "name": "ipython",
    "version": 3
   },
   "file_extension": ".py",
   "mimetype": "text/x-python",
   "name": "python",
   "nbconvert_exporter": "python",
   "pygments_lexer": "ipython3",
   "version": "3.13.1"
  }
 },
 "nbformat": 4,
 "nbformat_minor": 5
}
