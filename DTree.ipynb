{
 "cells": [
  {
   "cell_type": "code",
   "execution_count": 28,
   "id": "1f3e9d54-ad02-4201-b432-1d469e5b388d",
   "metadata": {},
   "outputs": [],
   "source": [
    "import pandas as pd\n",
    "from sklearn.preprocessing import LabelEncoder\n",
    "from sklearn.tree import DecisionTreeClassifier, plot_tree\n",
    "import matplotlib.pyplot as plt"
   ]
  },
  {
   "cell_type": "code",
   "execution_count": 29,
   "id": "d1662783-d848-46c7-b1e3-729e66f43c71",
   "metadata": {},
   "outputs": [],
   "source": [
    "#readin data\n",
    "data = pd.read_csv(\"play_golf_dataset.csv\")"
   ]
  },
  {
   "cell_type": "code",
   "execution_count": 30,
   "id": "f457a873-5261-4e50-a10b-1763133027b3",
   "metadata": {},
   "outputs": [],
   "source": [
    "df = pd.DataFrame(data)"
   ]
  },
  {
   "cell_type": "code",
   "execution_count": 31,
   "id": "e1dca7a6-9b41-4d74-89dc-62707bc2ebb5",
   "metadata": {},
   "outputs": [],
   "source": [
    "#Step2 : Encode Categorical Variables to numbers\n",
    "le = LabelEncoder()\n",
    "df_encoded = df.apply(le.fit_transform)"
   ]
  },
  {
   "cell_type": "code",
   "execution_count": 32,
   "id": "df9c3a57-99a5-464b-a886-3c0c6d13815a",
   "metadata": {},
   "outputs": [],
   "source": [
    "#Step3 : Separate features and target\n",
    "X = df_encoded.drop(\"Play Golf\",axis = 1)\n",
    "y = df_encoded[\"Play Golf\"]"
   ]
  },
  {
   "cell_type": "code",
   "execution_count": 33,
   "id": "7b6e6def-adfc-4f24-98d6-27fc39914a1f",
   "metadata": {},
   "outputs": [],
   "source": [
    "from sklearn.model_selection import train_test_split\n",
    "# Step 4: Train-Test Split\n",
    "X_train, X_test, y_train, y_test = train_test_split(X, y, test_size=0.3, random_state=42)\n"
   ]
  },
  {
   "cell_type": "code",
   "execution_count": 34,
   "id": "8daaf6ff-ebd1-4968-8e0c-e441d61a6dab",
   "metadata": {},
   "outputs": [],
   "source": [
    "# Step 6: Predict on the test set\n",
    "y_pred = clf.predict(X_test)"
   ]
  },
  {
   "cell_type": "code",
   "execution_count": 35,
   "id": "f0f5fc00-5897-4078-b477-db6a0b8cc712",
   "metadata": {},
   "outputs": [
    {
     "name": "stdout",
     "output_type": "stream",
     "text": [
      "Accuracy: 0.57\n",
      "Precision: 0.68\n"
     ]
    }
   ],
   "source": [
    "from sklearn.metrics import accuracy_score, precision_score\n",
    "# Step 7: Evaluate Accuracy and Precision\n",
    "accuracy = accuracy_score(y_test, y_pred)\n",
    "precision = precision_score(y_test, y_pred)  # Default is for class \"1\" (i.e., \"Yes\")\n",
    "\n",
    "print(f\"Accuracy: {accuracy:.2f}\")\n",
    "print(f\"Precision: {precision:.2f}\")"
   ]
  },
  {
   "cell_type": "code",
   "execution_count": null,
   "id": "bfe97456-3205-4e25-b47c-a621dc399850",
   "metadata": {},
   "outputs": [],
   "source": []
  }
 ],
 "metadata": {
  "kernelspec": {
   "display_name": "Python 3 (ipykernel)",
   "language": "python",
   "name": "python3"
  },
  "language_info": {
   "codemirror_mode": {
    "name": "ipython",
    "version": 3
   },
   "file_extension": ".py",
   "mimetype": "text/x-python",
   "name": "python",
   "nbconvert_exporter": "python",
   "pygments_lexer": "ipython3",
   "version": "3.13.1"
  }
 },
 "nbformat": 4,
 "nbformat_minor": 5
}
